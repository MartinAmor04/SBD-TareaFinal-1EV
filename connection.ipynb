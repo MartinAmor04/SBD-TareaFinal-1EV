{
 "cells": [
  {
   "cell_type": "markdown",
   "metadata": {},
   "source": [
    "Importamos las librerías necesarias"
   ]
  },
  {
   "cell_type": "code",
   "execution_count": 1,
   "metadata": {},
   "outputs": [],
   "source": [
    "from pymongo import MongoClient\n",
    "import requests\n",
    "import time"
   ]
  },
  {
   "cell_type": "markdown",
   "metadata": {},
   "source": [
    "Esta función recogerá los datos del API y los almacenará en MongoDB de forma indefinida, hasta que el usuario lo cancele"
   ]
  },
  {
   "cell_type": "code",
   "execution_count": null,
   "metadata": {},
   "outputs": [],
   "source": [
    "client = MongoClient('mongodb://localhost:27017/')\n",
    "\n",
    "db_name = client['bicisCorunha']\n",
    "collection_name = db_name['stations']\n",
    "\n",
    "def insert_data():\n",
    "    url='http://api.citybik.es/v2/networks/bicicorunha'\n",
    "    try:\n",
    "        response=requests.get(url)\n",
    "        data = response.json()\n",
    "        stations=data.get('network',{}).get('stations',[])\n",
    "        # print(stations)\n",
    "        result = collection_name.insert_many(stations)\n",
    "        print(f\"Inserted {len(result.inserted_ids)} documents with IDs: {result.inserted_ids}\")    \n",
    "    except:\n",
    "        print('Error: ',response.status_code)\n",
    "\n",
    "intervalo=180\n",
    "\n",
    "while True:\n",
    "    insert_data()\n",
    "    time.sleep(intervalo)"
   ]
  }
 ],
 "metadata": {
  "kernelspec": {
   "display_name": "API-bike",
   "language": "python",
   "name": "python3"
  },
  "language_info": {
   "codemirror_mode": {
    "name": "ipython",
    "version": 3
   },
   "file_extension": ".py",
   "mimetype": "text/x-python",
   "name": "python",
   "nbconvert_exporter": "python",
   "pygments_lexer": "ipython3",
   "version": "3.12.7"
  }
 },
 "nbformat": 4,
 "nbformat_minor": 2
}
