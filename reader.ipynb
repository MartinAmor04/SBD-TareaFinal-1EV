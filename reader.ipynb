{
 "cells": [
  {
   "cell_type": "code",
   "execution_count": 6,
   "metadata": {},
   "outputs": [
    {
     "name": "stdout",
     "output_type": "stream",
     "text": [
      "<class 'pymongo.synchronous.cursor.Cursor'>\n",
      "                                   id                   name   latitude  \\\n",
      "0    023efce1bbb332a1b918d56aeb671890     Avenida de Arteixo  43.360755   \n",
      "1    02cecd02915c86d7ab8034b61b19da0e  Mercado de Monte Alto  43.378000   \n",
      "2    030c4027b0bea390e562645c7082db4c            Los Rosales  43.374325   \n",
      "3    0e3aa0134a2f3d07ae5bd093e6af9a33      Plaza de Portugal  43.368584   \n",
      "4    104e0797759d11ac22a61cfed357800b            Ventorrillo  43.359323   \n",
      "..                                ...                    ...        ...   \n",
      "142  f04ee4ffca2a6f3daacba88a9eee8487              Millenium  43.376812   \n",
      "143  f702a7b2b1631ace3781c405acb99b70       Praza de Ourense  43.365158   \n",
      "144  f86954a7b51703f735bce5b549cb4e16        Parque del Agra  43.365140   \n",
      "145  fb0d3f40ea7570546b171b43ccd57a2a        Rosales-Labañou  43.374097   \n",
      "146  fee1ae73b32ffb83e1bf3f6e83e616b7  Centro Cívico Monelos  43.349354   \n",
      "\n",
      "     longitude                    timestamp  free_bikes  empty_slots  \\\n",
      "0    -8.410942  2024-12-11T17:17:46.455546Z           1           14   \n",
      "1    -8.399755  2024-12-11T17:17:46.455448Z           1           14   \n",
      "2    -8.431987  2024-12-11T17:17:46.455090Z           0           24   \n",
      "3    -8.414535  2024-12-11T17:17:46.455568Z          18            1   \n",
      "4    -8.422561  2024-12-11T17:17:46.455291Z           1           17   \n",
      "..         ...                          ...         ...          ...   \n",
      "142  -8.423091  2024-12-11T17:17:46.455579Z           7            7   \n",
      "143  -8.405321  2024-12-11T17:17:46.455426Z           0           15   \n",
      "144  -8.421649  2024-12-11T17:17:46.455471Z          10            3   \n",
      "145  -8.424797  2024-12-11T17:17:46.455482Z           3           10   \n",
      "146  -8.404956  2024-12-11T17:17:46.455222Z           5            9   \n",
      "\n",
      "                                                 extra  \n",
      "0    {'uid': '53', 'renting': True, 'returning': Tr...  \n",
      "1    {'uid': '43', 'renting': True, 'returning': Tr...  \n",
      "2    {'uid': '11', 'renting': True, 'returning': Tr...  \n",
      "3    {'uid': '55', 'renting': True, 'returning': Tr...  \n",
      "4    {'uid': '27', 'renting': True, 'returning': Tr...  \n",
      "..                                                 ...  \n",
      "142  {'uid': '56', 'renting': True, 'returning': Tr...  \n",
      "143  {'uid': '41', 'renting': True, 'returning': Tr...  \n",
      "144  {'uid': '45', 'renting': True, 'returning': Tr...  \n",
      "145  {'uid': '46', 'renting': True, 'returning': Tr...  \n",
      "146  {'uid': '21', 'renting': True, 'returning': Tr...  \n",
      "\n",
      "[147 rows x 8 columns]\n"
     ]
    }
   ],
   "source": [
    "import pandas as pd\n",
    "from pymongo import MongoClient\n",
    "client = MongoClient('mongodb://localhost:27017/')\n",
    "\n",
    "db_name = client['bicisCorunha']\n",
    "collection_name = db_name['stations']\n",
    "def export_data():\n",
    "    data=collection_name.find(projection={\"_id\":0})\n",
    "    print(type(data))\n",
    "    df=pd.DataFrame(data)\n",
    "    print(df)\n",
    "df=export_data()\n",
    "df"
   ]
  }
 ],
 "metadata": {
  "kernelspec": {
   "display_name": "API",
   "language": "python",
   "name": "python3"
  },
  "language_info": {
   "codemirror_mode": {
    "name": "ipython",
    "version": 3
   },
   "file_extension": ".py",
   "mimetype": "text/x-python",
   "name": "python",
   "nbconvert_exporter": "python",
   "pygments_lexer": "ipython3",
   "version": "3.13.0"
  }
 },
 "nbformat": 4,
 "nbformat_minor": 2
}
